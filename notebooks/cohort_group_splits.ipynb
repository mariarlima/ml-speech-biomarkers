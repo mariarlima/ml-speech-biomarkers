{
 "cells": [
  {
   "cell_type": "code",
   "execution_count": 1,
   "id": "b58d3d99",
   "metadata": {},
   "outputs": [],
   "source": [
    "import pandas as pd\n",
    "from mlcog.utils import io "
   ]
  },
  {
   "cell_type": "code",
   "execution_count": 7,
   "id": "3fda7279",
   "metadata": {},
   "outputs": [
    {
     "data": {
      "text/html": [
       "<div>\n",
       "<style scoped>\n",
       "    .dataframe tbody tr th:only-of-type {\n",
       "        vertical-align: middle;\n",
       "    }\n",
       "\n",
       "    .dataframe tbody tr th {\n",
       "        vertical-align: top;\n",
       "    }\n",
       "\n",
       "    .dataframe thead th {\n",
       "        text-align: right;\n",
       "    }\n",
       "</style>\n",
       "<table border=\"1\" class=\"dataframe\">\n",
       "  <thead>\n",
       "    <tr style=\"text-align: right;\">\n",
       "      <th></th>\n",
       "      <th>adressfname</th>\n",
       "      <th>gender</th>\n",
       "      <th>dx</th>\n",
       "      <th>age</th>\n",
       "      <th>mmse</th>\n",
       "      <th>pid</th>\n",
       "      <th>mmse_split</th>\n",
       "      <th>age_split</th>\n",
       "    </tr>\n",
       "  </thead>\n",
       "  <tbody>\n",
       "    <tr>\n",
       "      <th>0</th>\n",
       "      <td>adrso108</td>\n",
       "      <td>male</td>\n",
       "      <td>ProbableAD</td>\n",
       "      <td>65</td>\n",
       "      <td>19.0</td>\n",
       "      <td>1</td>\n",
       "      <td>ad-mod</td>\n",
       "      <td>60-69</td>\n",
       "    </tr>\n",
       "    <tr>\n",
       "      <th>1</th>\n",
       "      <td>adrso171</td>\n",
       "      <td>female</td>\n",
       "      <td>Control</td>\n",
       "      <td>57</td>\n",
       "      <td>27.0</td>\n",
       "      <td>10</td>\n",
       "      <td>cn</td>\n",
       "      <td>50-59</td>\n",
       "    </tr>\n",
       "    <tr>\n",
       "      <th>2</th>\n",
       "      <td>adrso184</td>\n",
       "      <td>female</td>\n",
       "      <td>Control</td>\n",
       "      <td>78</td>\n",
       "      <td>30.0</td>\n",
       "      <td>11</td>\n",
       "      <td>cn</td>\n",
       "      <td>70-80</td>\n",
       "    </tr>\n",
       "    <tr>\n",
       "      <th>3</th>\n",
       "      <td>adrso293</td>\n",
       "      <td>female</td>\n",
       "      <td>Control</td>\n",
       "      <td>57</td>\n",
       "      <td>30.0</td>\n",
       "      <td>12</td>\n",
       "      <td>cn</td>\n",
       "      <td>50-59</td>\n",
       "    </tr>\n",
       "    <tr>\n",
       "      <th>4</th>\n",
       "      <td>adrso113</td>\n",
       "      <td>female</td>\n",
       "      <td>ProbableAD</td>\n",
       "      <td>69</td>\n",
       "      <td>20.0</td>\n",
       "      <td>13</td>\n",
       "      <td>ad-mod</td>\n",
       "      <td>60-69</td>\n",
       "    </tr>\n",
       "    <tr>\n",
       "      <th>...</th>\n",
       "      <td>...</td>\n",
       "      <td>...</td>\n",
       "      <td>...</td>\n",
       "      <td>...</td>\n",
       "      <td>...</td>\n",
       "      <td>...</td>\n",
       "      <td>...</td>\n",
       "      <td>...</td>\n",
       "    </tr>\n",
       "    <tr>\n",
       "      <th>66</th>\n",
       "      <td>adrso135</td>\n",
       "      <td>male</td>\n",
       "      <td>ProbableAD</td>\n",
       "      <td>72</td>\n",
       "      <td>24.0</td>\n",
       "      <td>7</td>\n",
       "      <td>ad-mil</td>\n",
       "      <td>70-80</td>\n",
       "    </tr>\n",
       "    <tr>\n",
       "      <th>67</th>\n",
       "      <td>adrso214</td>\n",
       "      <td>male</td>\n",
       "      <td>ProbableAD</td>\n",
       "      <td>56</td>\n",
       "      <td>18.0</td>\n",
       "      <td>70</td>\n",
       "      <td>ad-mod</td>\n",
       "      <td>50-59</td>\n",
       "    </tr>\n",
       "    <tr>\n",
       "      <th>68</th>\n",
       "      <td>adrso083</td>\n",
       "      <td>male</td>\n",
       "      <td>ProbableAD</td>\n",
       "      <td>78</td>\n",
       "      <td>24.0</td>\n",
       "      <td>71</td>\n",
       "      <td>ad-mil</td>\n",
       "      <td>70-80</td>\n",
       "    </tr>\n",
       "    <tr>\n",
       "      <th>69</th>\n",
       "      <td>adrso037</td>\n",
       "      <td>male</td>\n",
       "      <td>ProbableAD</td>\n",
       "      <td>77</td>\n",
       "      <td>10.0</td>\n",
       "      <td>8</td>\n",
       "      <td>ad-mod</td>\n",
       "      <td>70-80</td>\n",
       "    </tr>\n",
       "    <tr>\n",
       "      <th>70</th>\n",
       "      <td>adrso235</td>\n",
       "      <td>female</td>\n",
       "      <td>ProbableAD</td>\n",
       "      <td>61</td>\n",
       "      <td>23.0</td>\n",
       "      <td>9</td>\n",
       "      <td>ad-mil</td>\n",
       "      <td>60-69</td>\n",
       "    </tr>\n",
       "  </tbody>\n",
       "</table>\n",
       "<p>71 rows × 8 columns</p>\n",
       "</div>"
      ],
      "text/plain": [
       "   adressfname  gender          dx  age  mmse  pid mmse_split age_split\n",
       "0     adrso108    male  ProbableAD   65  19.0    1     ad-mod     60-69\n",
       "1     adrso171  female     Control   57  27.0   10         cn     50-59\n",
       "2     adrso184  female     Control   78  30.0   11         cn     70-80\n",
       "3     adrso293  female     Control   57  30.0   12         cn     50-59\n",
       "4     adrso113  female  ProbableAD   69  20.0   13     ad-mod     60-69\n",
       "..         ...     ...         ...  ...   ...  ...        ...       ...\n",
       "66    adrso135    male  ProbableAD   72  24.0    7     ad-mil     70-80\n",
       "67    adrso214    male  ProbableAD   56  18.0   70     ad-mod     50-59\n",
       "68    adrso083    male  ProbableAD   78  24.0   71     ad-mil     70-80\n",
       "69    adrso037    male  ProbableAD   77  10.0    8     ad-mod     70-80\n",
       "70    adrso235  female  ProbableAD   61  23.0    9     ad-mil     60-69\n",
       "\n",
       "[71 rows x 8 columns]"
      ]
     },
     "execution_count": 7,
     "metadata": {},
     "output_type": "execute_result"
    }
   ],
   "source": [
    "ling_test = pd.read_pickle('../data/features/ling_test.pkl')\n",
    "y_test = ling_test['label']\n",
    "lingprobs = pd.read_pickle('../data/test_eval_probs/ling_probs_classif.pkl')\n",
    "lingprobs = lingprobs['Random Forest']\n",
    "test_groups = pd.read_csv('../data/test_groups.csv')\n",
    "test_groups"
   ]
  },
  {
   "cell_type": "code",
   "execution_count": 4,
   "id": "a7890c9c",
   "metadata": {},
   "outputs": [
    {
     "data": {
      "text/html": [
       "<div>\n",
       "<style scoped>\n",
       "    .dataframe tbody tr th:only-of-type {\n",
       "        vertical-align: middle;\n",
       "    }\n",
       "\n",
       "    .dataframe tbody tr th {\n",
       "        vertical-align: top;\n",
       "    }\n",
       "\n",
       "    .dataframe thead th {\n",
       "        text-align: right;\n",
       "    }\n",
       "</style>\n",
       "<table border=\"1\" class=\"dataframe\">\n",
       "  <thead>\n",
       "    <tr style=\"text-align: right;\">\n",
       "      <th></th>\n",
       "      <th>pid</th>\n",
       "      <th>label</th>\n",
       "      <th>data</th>\n",
       "      <th>adressfname</th>\n",
       "      <th>gender</th>\n",
       "      <th>dx</th>\n",
       "      <th>age</th>\n",
       "      <th>mmse</th>\n",
       "      <th>mmse_split</th>\n",
       "      <th>age_split</th>\n",
       "    </tr>\n",
       "  </thead>\n",
       "  <tbody>\n",
       "    <tr>\n",
       "      <th>0</th>\n",
       "      <td>58</td>\n",
       "      <td>0</td>\n",
       "      <td>[57, 47.02, 94.48, 1.0, 5.65, 8.14, 14.04, 89....</td>\n",
       "      <td>adrso013</td>\n",
       "      <td>F</td>\n",
       "      <td>Control</td>\n",
       "      <td>70</td>\n",
       "      <td>29.0</td>\n",
       "      <td>cn</td>\n",
       "      <td>70-80</td>\n",
       "    </tr>\n",
       "    <tr>\n",
       "      <th>1</th>\n",
       "      <td>64</td>\n",
       "      <td>1</td>\n",
       "      <td>[57, 62.72, 70.59, 14.46, 74.93, 5.7, 15.79, 9...</td>\n",
       "      <td>adrso038</td>\n",
       "      <td>F</td>\n",
       "      <td>ProbableAD</td>\n",
       "      <td>65</td>\n",
       "      <td>24.0</td>\n",
       "      <td>ad-mil</td>\n",
       "      <td>60-69</td>\n",
       "    </tr>\n",
       "    <tr>\n",
       "      <th>2</th>\n",
       "      <td>70</td>\n",
       "      <td>1</td>\n",
       "      <td>[62, 95.94, 97.31, 25.64, 6.37, 4.43, 6.45, 95...</td>\n",
       "      <td>adrso214</td>\n",
       "      <td>M</td>\n",
       "      <td>ProbableAD</td>\n",
       "      <td>56</td>\n",
       "      <td>18.0</td>\n",
       "      <td>ad-mod</td>\n",
       "      <td>50-59</td>\n",
       "    </tr>\n",
       "    <tr>\n",
       "      <th>3</th>\n",
       "      <td>71</td>\n",
       "      <td>1</td>\n",
       "      <td>[156, 1.0, 99.0, 1.31, 49.66, 19.5, 13.46, 97....</td>\n",
       "      <td>adrso083</td>\n",
       "      <td>M</td>\n",
       "      <td>ProbableAD</td>\n",
       "      <td>78</td>\n",
       "      <td>24.0</td>\n",
       "      <td>ad-mil</td>\n",
       "      <td>70-80</td>\n",
       "    </tr>\n",
       "    <tr>\n",
       "      <th>4</th>\n",
       "      <td>65</td>\n",
       "      <td>0</td>\n",
       "      <td>[107, 88.19, 94.26, 10.52, 48.73, 15.29, 12.15...</td>\n",
       "      <td>adrso166</td>\n",
       "      <td>F</td>\n",
       "      <td>Control</td>\n",
       "      <td>58</td>\n",
       "      <td>30.0</td>\n",
       "      <td>cn</td>\n",
       "      <td>50-59</td>\n",
       "    </tr>\n",
       "  </tbody>\n",
       "</table>\n",
       "</div>"
      ],
      "text/plain": [
       "  pid  label                                               data adressfname  \\\n",
       "0  58      0  [57, 47.02, 94.48, 1.0, 5.65, 8.14, 14.04, 89....    adrso013   \n",
       "1  64      1  [57, 62.72, 70.59, 14.46, 74.93, 5.7, 15.79, 9...    adrso038   \n",
       "2  70      1  [62, 95.94, 97.31, 25.64, 6.37, 4.43, 6.45, 95...    adrso214   \n",
       "3  71      1  [156, 1.0, 99.0, 1.31, 49.66, 19.5, 13.46, 97....    adrso083   \n",
       "4  65      0  [107, 88.19, 94.26, 10.52, 48.73, 15.29, 12.15...    adrso166   \n",
       "\n",
       "  gender          dx  age  mmse mmse_split age_split  \n",
       "0      F     Control   70  29.0         cn     70-80  \n",
       "1      F  ProbableAD   65  24.0     ad-mil     60-69  \n",
       "2      M  ProbableAD   56  18.0     ad-mod     50-59  \n",
       "3      M  ProbableAD   78  24.0     ad-mil     70-80  \n",
       "4      F     Control   58  30.0         cn     50-59  "
      ]
     },
     "execution_count": 4,
     "metadata": {},
     "output_type": "execute_result"
    }
   ],
   "source": [
    "ling_test['pid']   = ling_test['pid'].astype(str).str.strip()\n",
    "test_groups['pid'] = test_groups['pid'].astype(str).str.strip()\n",
    "\n",
    "# Left-join on index\n",
    "df = (\n",
    "    ling_test.set_index('pid')\n",
    "        .join(test_groups.set_index('pid'), how='left', rsuffix='_grp')\n",
    "        .reset_index()\n",
    ")\n",
    "\n",
    "df['gender'] = df['gender'].map({'female': 'F', 'male': 'M'}).fillna('NA')\n",
    "df.head()\n"
   ]
  },
  {
   "cell_type": "code",
   "execution_count": 5,
   "id": "a3abb976",
   "metadata": {},
   "outputs": [
    {
     "data": {
      "text/plain": [
       "(100,)"
      ]
     },
     "execution_count": 5,
     "metadata": {},
     "output_type": "execute_result"
    }
   ],
   "source": [
    "df.data[0].shape"
   ]
  },
  {
   "cell_type": "code",
   "execution_count": 6,
   "id": "9d0609c3",
   "metadata": {},
   "outputs": [],
   "source": [
    "split = df.copy()"
   ]
  },
  {
   "cell_type": "markdown",
   "id": "31a2f34e",
   "metadata": {},
   "source": [
    "##### *Female/male split*"
   ]
  },
  {
   "cell_type": "code",
   "execution_count": 9,
   "id": "ec72e566",
   "metadata": {},
   "outputs": [
    {
     "name": "stdout",
     "output_type": "stream",
     "text": [
      "Female\n",
      "('Mean Accuracy: 76.4 (74.6 - 78.1)', 'Mean Likelihood of positive: 42.3 (38.6 - 46.0)')\n",
      "Male\n",
      "('Mean Accuracy: 76.7 (72.2 - 81.2)', 'Mean Likelihood of positive: 43.3 (37.9 - 48.8)')\n"
     ]
    }
   ],
   "source": [
    "male_idx = split[split['gender'] == 'M'].index.tolist()\n",
    "female_idx = split[split['gender'] == 'F'].index.tolist()\n",
    "\n",
    "print('Female')\n",
    "print(io.groups(y_test, lingprobs, female_idx))\n",
    "\n",
    "print('Male')\n",
    "print(io.groups(y_test, lingprobs, male_idx))"
   ]
  },
  {
   "cell_type": "markdown",
   "id": "0f729108",
   "metadata": {},
   "source": [
    "##### *Age split*"
   ]
  },
  {
   "cell_type": "code",
   "execution_count": 11,
   "id": "28bf9897",
   "metadata": {},
   "outputs": [
    {
     "data": {
      "text/plain": [
       "(1.3, 1.2, 0.8)"
      ]
     },
     "execution_count": 11,
     "metadata": {},
     "output_type": "execute_result"
    }
   ],
   "source": [
    "age_1_idx = df[df.age_split == '50-59'].index.tolist()\n",
    "age_2_idx = df[df.age_split == '60-69'].index.tolist()\n",
    "age_3_idx = df[df.age_split == '70-80'].index.tolist()\n",
    "len(age_1_idx), len(age_2_idx), len(age_3_idx)\n",
    "\n",
    "age_1_1 = split[(split.age_split == '50-59') & (split.label == 1)].shape[0]\n",
    "age_1_0 = split[(split.age_split == '50-59') & (split.label == 0)].shape[0]\n",
    "age_2_1 = split[(split.age_split == '60-69') & (split.label == 1)].shape[0]\n",
    "age_2_0 = split[(split.age_split == '60-69') & (split.label == 0)].shape[0]\n",
    "age_3_1 = split[(split.age_split == '70-80') & (split.label == 1)].shape[0]\n",
    "age_3_0 = split[(split.age_split == '70-80') & (split.label == 0)].shape[0]\n",
    "\n",
    "round(age_1_0/age_1_1, 1), round(age_2_0/age_2_1, 1), round(age_3_0/age_3_1, 1)"
   ]
  },
  {
   "cell_type": "code",
   "execution_count": 12,
   "id": "cd44c718",
   "metadata": {},
   "outputs": [
    {
     "name": "stdout",
     "output_type": "stream",
     "text": [
      "Age 50-59\n",
      "('Mean Accuracy: 83.6 (78.2 - 89.0)', 'Mean Likelihood of positive: 42.1 (34.7 - 49.5)')\n",
      "Age 60-69\n",
      "('Mean Accuracy: 75.9 (72.6 - 79.3)', 'Mean Likelihood of positive: 37.4 (31.5 - 43.3)')\n",
      "Age 70-80\n",
      "('Mean Accuracy: 73.7 (71.0 - 76.3)', 'Mean Likelihood of positive: 47.7 (44.7 - 50.7)')\n"
     ]
    }
   ],
   "source": [
    "print('Age 50-59')\n",
    "print(io.groups(y_test, lingprobs, age_1_idx))\n",
    "\n",
    "print('Age 60-69')\n",
    "print(io.groups(y_test, lingprobs, age_2_idx))\n",
    "\n",
    "print('Age 70-80')\n",
    "print(io.groups(y_test, lingprobs, age_3_idx))"
   ]
  },
  {
   "cell_type": "markdown",
   "id": "be81a3e6",
   "metadata": {},
   "source": [
    "##### *MMSE split*"
   ]
  },
  {
   "cell_type": "code",
   "execution_count": 13,
   "id": "9cba2544",
   "metadata": {},
   "outputs": [
    {
     "data": {
      "text/plain": [
       "(17.0, 0.1, 0.0, 0.0)"
      ]
     },
     "execution_count": 13,
     "metadata": {},
     "output_type": "execute_result"
    }
   ],
   "source": [
    "mmse_1_idx = df[df.mmse_split == 'cn'].index.tolist()\n",
    "mmse_2_idx = df[df.mmse_split == 'ad-mil'].index.tolist()\n",
    "mmse_3_idx = df[df.mmse_split == 'ad-mod'].index.tolist()\n",
    "mmse_4_idx = df[df.mmse_split == 'ad-sev'].index.tolist()\n",
    "len(mmse_1_idx), len(mmse_2_idx), len(mmse_3_idx), len(mmse_4_idx)\n",
    "\n",
    "mmse_1_1 = split[(split.mmse_split == 'cn') & (split.label == 1)].shape[0]\n",
    "mmse_1_0 = split[(split.mmse_split == 'cn') & (split.label == 0)].shape[0]\n",
    "mmse_2_1 = split[(split.mmse_split == 'ad-mil') & (split.label == 1)].shape[0]\n",
    "mmse_2_0 = split[(split.mmse_split == 'ad-mil') & (split.label == 0)].shape[0]\n",
    "mmse_3_1 = split[(split.mmse_split == 'ad-mod') & (split.label == 1)].shape[0]\n",
    "mmse_3_0 = split[(split.mmse_split == 'ad-mod') & (split.label == 0)].shape[0]\n",
    "mmse_4_1 = split[(split.mmse_split == 'ad-sev') & (split.label == 1)].shape[0]\n",
    "mmse_4_0 = split[(split.mmse_split == 'ad-sev') & (split.label == 0)].shape[0]\n",
    "round(mmse_1_0/mmse_1_1, 1), round(mmse_2_0/mmse_2_1, 1), round(mmse_3_0/mmse_3_1, 1), round(mmse_4_0/mmse_4_1, 1)"
   ]
  },
  {
   "cell_type": "code",
   "execution_count": 14,
   "id": "ea6c9163",
   "metadata": {},
   "outputs": [
    {
     "name": "stdout",
     "output_type": "stream",
     "text": [
      "CN\n",
      "('Mean Accuracy: 81.9 (76.8 - 87.1)', 'Mean Likelihood of positive: 20.8 (15.0 - 26.6)')\n",
      "Mild\n",
      "('Mean Accuracy: 48.2 (43.8 - 52.6)', 'Mean Likelihood of positive: 39.1 (34.7 - 43.5)')\n",
      "Moderate\n",
      "('Mean Accuracy: 78.6 (73.7 - 83.5)', 'Mean Likelihood of positive: 78.6 (73.7 - 83.5)')\n",
      "Severe\n",
      "('Mean Accuracy: 100.0 (100.0 - 100.0)', 'Mean Likelihood of positive: 100.0 (100.0 - 100.0)')\n"
     ]
    }
   ],
   "source": [
    "print('CN')\n",
    "print(io.groups(y_test, lingprobs, mmse_1_idx))\n",
    "\n",
    "print('Mild')\n",
    "print(io.groups(y_test, lingprobs, mmse_2_idx))\n",
    "\n",
    "print('Moderate')\n",
    "print(io.groups(y_test, lingprobs, mmse_3_idx))\n",
    "\n",
    "print('Severe')\n",
    "print(io.groups(y_test, lingprobs, mmse_4_idx))"
   ]
  }
 ],
 "metadata": {
  "kernelspec": {
   "display_name": "venv (3.12.10)",
   "language": "python",
   "name": "python3"
  },
  "language_info": {
   "codemirror_mode": {
    "name": "ipython",
    "version": 3
   },
   "file_extension": ".py",
   "mimetype": "text/x-python",
   "name": "python",
   "nbconvert_exporter": "python",
   "pygments_lexer": "ipython3",
   "version": "3.12.10"
  }
 },
 "nbformat": 4,
 "nbformat_minor": 5
}
