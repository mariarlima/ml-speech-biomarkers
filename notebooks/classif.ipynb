{
 "cells": [
  {
   "cell_type": "code",
   "execution_count": 21,
   "id": "36fb1c93",
   "metadata": {},
   "outputs": [],
   "source": [
    "import os, warnings\n",
    "\n",
    "# Make worker processes (joblib/loky) ignore both warnings\n",
    "os.environ[\"PYTHONWARNINGS\"] = (\n",
    "    \"ignore:Got `batch_size` less than 1 or larger than sample size:UserWarning,\"\n",
    "    \"ignore:A worker stopped while some jobs were given to the executor:UserWarning\"\n",
    ")\n",
    "\n",
    "# Suppress in the current process as well\n",
    "\n",
    "# Batch size clipping warnings\n",
    "warnings.filterwarnings(\n",
    "    \"ignore\",\n",
    "    message=r\"Got `batch_size` less than 1 or larger than sample size\\.?(?:\\s*It is going to be clipped\\.)?\",\n",
    "    category=UserWarning\n",
    ")\n",
    "warnings.filterwarnings(\n",
    "    \"ignore\",\n",
    "    message=r\".*batch_size.*clipped\",\n",
    "    category=UserWarning\n",
    ")\n",
    "\n",
    "# Worker stopped warnings (joblib / sklearn)\n",
    "warnings.filterwarnings(\n",
    "    \"ignore\",\n",
    "    message=r\"A worker stopped while some jobs were given to the executor\",\n",
    "    category=UserWarning\n",
    ")"
   ]
  },
  {
   "cell_type": "code",
   "execution_count": 2,
   "id": "4c4c171f",
   "metadata": {},
   "outputs": [],
   "source": [
    "import numpy as np\n",
    "import pandas as pd\n",
    "import pickle\n",
    "from sklearn.preprocessing import StandardScaler\n",
    "\n",
    "from mlcog import evaluation, models as m\n",
    "from mlcog.utils.io import get_cv_model_path\n",
    "from mlcog import tuning, bootstrap, evaluation \n",
    "from mlcog.utils import io"
   ]
  },
  {
   "cell_type": "markdown",
   "id": "a2add436",
   "metadata": {},
   "source": [
    "#### *Lexical and semantic psycholinguistic features*"
   ]
  },
  {
   "cell_type": "code",
   "execution_count": 3,
   "id": "5455edb8",
   "metadata": {},
   "outputs": [
    {
     "data": {
      "text/html": [
       "<div>\n",
       "<style scoped>\n",
       "    .dataframe tbody tr th:only-of-type {\n",
       "        vertical-align: middle;\n",
       "    }\n",
       "\n",
       "    .dataframe tbody tr th {\n",
       "        vertical-align: top;\n",
       "    }\n",
       "\n",
       "    .dataframe thead th {\n",
       "        text-align: right;\n",
       "    }\n",
       "</style>\n",
       "<table border=\"1\" class=\"dataframe\">\n",
       "  <thead>\n",
       "    <tr style=\"text-align: right;\">\n",
       "      <th></th>\n",
       "      <th>pid</th>\n",
       "      <th>label</th>\n",
       "      <th>data</th>\n",
       "    </tr>\n",
       "  </thead>\n",
       "  <tbody>\n",
       "    <tr>\n",
       "      <th>0</th>\n",
       "      <td>267</td>\n",
       "      <td>0</td>\n",
       "      <td>[81, 58.92, 54.78, 83.36, 20.23, 4.26, 8.64, 9...</td>\n",
       "    </tr>\n",
       "    <tr>\n",
       "      <th>1</th>\n",
       "      <td>273</td>\n",
       "      <td>0</td>\n",
       "      <td>[110, 80.0, 71.57, 20.79, 47.86, 10.0, 13.64, ...</td>\n",
       "    </tr>\n",
       "    <tr>\n",
       "      <th>2</th>\n",
       "      <td>298</td>\n",
       "      <td>0</td>\n",
       "      <td>[92, 84.34, 93.93, 44.75, 35.66, 7.08, 14.13, ...</td>\n",
       "    </tr>\n",
       "    <tr>\n",
       "      <th>3</th>\n",
       "      <td>307</td>\n",
       "      <td>0</td>\n",
       "      <td>[83, 56.34, 74.41, 13.52, 76.34, 7.55, 7.23, 7...</td>\n",
       "    </tr>\n",
       "    <tr>\n",
       "      <th>4</th>\n",
       "      <td>312</td>\n",
       "      <td>0</td>\n",
       "      <td>[128, 64.33, 75.49, 48.9, 30.91, 5.82, 11.72, ...</td>\n",
       "    </tr>\n",
       "  </tbody>\n",
       "</table>\n",
       "</div>"
      ],
      "text/plain": [
       "   pid  label                                               data\n",
       "0  267      0  [81, 58.92, 54.78, 83.36, 20.23, 4.26, 8.64, 9...\n",
       "1  273      0  [110, 80.0, 71.57, 20.79, 47.86, 10.0, 13.64, ...\n",
       "2  298      0  [92, 84.34, 93.93, 44.75, 35.66, 7.08, 14.13, ...\n",
       "3  307      0  [83, 56.34, 74.41, 13.52, 76.34, 7.55, 7.23, 7...\n",
       "4  312      0  [128, 64.33, 75.49, 48.9, 30.91, 5.82, 11.72, ..."
      ]
     },
     "execution_count": 3,
     "metadata": {},
     "output_type": "execute_result"
    }
   ],
   "source": [
    "ling_train = pd.read_pickle('../data/features/ling_train.pkl')\n",
    "ling_train.head()"
   ]
  },
  {
   "cell_type": "code",
   "execution_count": 3,
   "id": "c7b2a04b",
   "metadata": {},
   "outputs": [
    {
     "data": {
      "text/plain": [
       "(100,)"
      ]
     },
     "execution_count": 3,
     "metadata": {},
     "output_type": "execute_result"
    }
   ],
   "source": [
    "ling_train.data[0].shape   "
   ]
  },
  {
   "cell_type": "code",
   "execution_count": 4,
   "id": "8940304f",
   "metadata": {},
   "outputs": [
    {
     "name": "stdout",
     "output_type": "stream",
     "text": [
      "Fitting 10 folds for each of 50 candidates, totalling 500 fits\n",
      "Fitting 10 folds for each of 50 candidates, totalling 500 fits\n",
      "Fitting 10 folds for each of 50 candidates, totalling 500 fits\n",
      "Fitting 10 folds for each of 50 candidates, totalling 500 fits\n",
      "Fitting 10 folds for each of 50 candidates, totalling 500 fits\n"
     ]
    },
    {
     "data": {
      "text/html": [
       "<div>\n",
       "<style scoped>\n",
       "    .dataframe tbody tr th:only-of-type {\n",
       "        vertical-align: middle;\n",
       "    }\n",
       "\n",
       "    .dataframe tbody tr th {\n",
       "        vertical-align: top;\n",
       "    }\n",
       "\n",
       "    .dataframe thead th {\n",
       "        text-align: right;\n",
       "    }\n",
       "</style>\n",
       "<table border=\"1\" class=\"dataframe\">\n",
       "  <thead>\n",
       "    <tr style=\"text-align: right;\">\n",
       "      <th></th>\n",
       "      <th>Model</th>\n",
       "      <th>Sensitivity</th>\n",
       "      <th>Specificity</th>\n",
       "      <th>Roc_auc</th>\n",
       "      <th>Accuracy</th>\n",
       "    </tr>\n",
       "  </thead>\n",
       "  <tbody>\n",
       "    <tr>\n",
       "      <th>0</th>\n",
       "      <td>lr</td>\n",
       "      <td>70.4 (10.0)</td>\n",
       "      <td>77.3 (9.2)</td>\n",
       "      <td>78.6 (6.0)</td>\n",
       "      <td>73.6 (6.5)</td>\n",
       "    </tr>\n",
       "    <tr>\n",
       "      <th>1</th>\n",
       "      <td>svm</td>\n",
       "      <td>75.0 (14.5)</td>\n",
       "      <td>69.5 (14.3)</td>\n",
       "      <td>78.1 (5.2)</td>\n",
       "      <td>72.2 (8.6)</td>\n",
       "    </tr>\n",
       "    <tr>\n",
       "      <th>2</th>\n",
       "      <td>rf</td>\n",
       "      <td>78.8 (16.7)</td>\n",
       "      <td>72.1 (13.4)</td>\n",
       "      <td>83.5 (8.9)</td>\n",
       "      <td>75.3 (9.4)</td>\n",
       "    </tr>\n",
       "    <tr>\n",
       "      <th>3</th>\n",
       "      <td>nn</td>\n",
       "      <td>69.4 (18.2)</td>\n",
       "      <td>70.7 (17.2)</td>\n",
       "      <td>73.4 (12.9)</td>\n",
       "      <td>69.9 (7.9)</td>\n",
       "    </tr>\n",
       "    <tr>\n",
       "      <th>4</th>\n",
       "      <td>xgboost</td>\n",
       "      <td>79.3 (10.9)</td>\n",
       "      <td>78.4 (18.7)</td>\n",
       "      <td>86.6 (8.9)</td>\n",
       "      <td>78.9 (8.7)</td>\n",
       "    </tr>\n",
       "  </tbody>\n",
       "</table>\n",
       "</div>"
      ],
      "text/plain": [
       "     Model  Sensitivity  Specificity      Roc_auc    Accuracy\n",
       "0       lr  70.4 (10.0)   77.3 (9.2)   78.6 (6.0)  73.6 (6.5)\n",
       "1      svm  75.0 (14.5)  69.5 (14.3)   78.1 (5.2)  72.2 (8.6)\n",
       "2       rf  78.8 (16.7)  72.1 (13.4)   83.5 (8.9)  75.3 (9.4)\n",
       "3       nn  69.4 (18.2)  70.7 (17.2)  73.4 (12.9)  69.9 (7.9)\n",
       "4  xgboost  79.3 (10.9)  78.4 (18.7)   86.6 (8.9)  78.9 (8.7)"
      ]
     },
     "execution_count": 4,
     "metadata": {},
     "output_type": "execute_result"
    }
   ],
   "source": [
    "X_train = ling_train['data']\n",
    "y = ling_train['label']\n",
    "X_train_2d = np.stack(X_train.values)\n",
    "# Normalization\n",
    "scaler = StandardScaler()\n",
    "X_scaled_train = scaler.fit_transform(X_train_2d)\n",
    "\n",
    "models = m.create_models()\n",
    "param_grids = m.create_param_grids_()\n",
    "\n",
    "# model selection and crossvalidation\n",
    "results_ling = []\n",
    "\n",
    "for name, model in models.items():\n",
    "    result = tuning.crossval_(name, model, param_grids[name], X_scaled_train, y, feature_set='cv_ling')\n",
    "    results_ling.append(result)\n",
    "\n",
    "df_eval_cv_ling = pd.DataFrame(results_ling)\n",
    "df_eval_cv_ling"
   ]
  },
  {
   "cell_type": "code",
   "execution_count": 5,
   "id": "4edf46da",
   "metadata": {},
   "outputs": [],
   "source": [
    "PATH_SAVE_DF = \"../data/cv_eval/cv_ling/\"\n",
    "df_eval_cv_ling.to_csv(PATH_SAVE_DF + \"classif_results.csv\", index=False)"
   ]
  },
  {
   "cell_type": "markdown",
   "id": "ed1e9893",
   "metadata": {},
   "source": [
    "##### Evaluation on unseen test set"
   ]
  },
  {
   "cell_type": "code",
   "execution_count": 5,
   "id": "f9742c0b",
   "metadata": {},
   "outputs": [
    {
     "data": {
      "text/html": [
       "<style>#sk-container-id-2 {color: black;}#sk-container-id-2 pre{padding: 0;}#sk-container-id-2 div.sk-toggleable {background-color: white;}#sk-container-id-2 label.sk-toggleable__label {cursor: pointer;display: block;width: 100%;margin-bottom: 0;padding: 0.3em;box-sizing: border-box;text-align: center;}#sk-container-id-2 label.sk-toggleable__label-arrow:before {content: \"▸\";float: left;margin-right: 0.25em;color: #696969;}#sk-container-id-2 label.sk-toggleable__label-arrow:hover:before {color: black;}#sk-container-id-2 div.sk-estimator:hover label.sk-toggleable__label-arrow:before {color: black;}#sk-container-id-2 div.sk-toggleable__content {max-height: 0;max-width: 0;overflow: hidden;text-align: left;background-color: #f0f8ff;}#sk-container-id-2 div.sk-toggleable__content pre {margin: 0.2em;color: black;border-radius: 0.25em;background-color: #f0f8ff;}#sk-container-id-2 input.sk-toggleable__control:checked~div.sk-toggleable__content {max-height: 200px;max-width: 100%;overflow: auto;}#sk-container-id-2 input.sk-toggleable__control:checked~label.sk-toggleable__label-arrow:before {content: \"▾\";}#sk-container-id-2 div.sk-estimator input.sk-toggleable__control:checked~label.sk-toggleable__label {background-color: #d4ebff;}#sk-container-id-2 div.sk-label input.sk-toggleable__control:checked~label.sk-toggleable__label {background-color: #d4ebff;}#sk-container-id-2 input.sk-hidden--visually {border: 0;clip: rect(1px 1px 1px 1px);clip: rect(1px, 1px, 1px, 1px);height: 1px;margin: -1px;overflow: hidden;padding: 0;position: absolute;width: 1px;}#sk-container-id-2 div.sk-estimator {font-family: monospace;background-color: #f0f8ff;border: 1px dotted black;border-radius: 0.25em;box-sizing: border-box;margin-bottom: 0.5em;}#sk-container-id-2 div.sk-estimator:hover {background-color: #d4ebff;}#sk-container-id-2 div.sk-parallel-item::after {content: \"\";width: 100%;border-bottom: 1px solid gray;flex-grow: 1;}#sk-container-id-2 div.sk-label:hover label.sk-toggleable__label {background-color: #d4ebff;}#sk-container-id-2 div.sk-serial::before {content: \"\";position: absolute;border-left: 1px solid gray;box-sizing: border-box;top: 0;bottom: 0;left: 50%;z-index: 0;}#sk-container-id-2 div.sk-serial {display: flex;flex-direction: column;align-items: center;background-color: white;padding-right: 0.2em;padding-left: 0.2em;position: relative;}#sk-container-id-2 div.sk-item {position: relative;z-index: 1;}#sk-container-id-2 div.sk-parallel {display: flex;align-items: stretch;justify-content: center;background-color: white;position: relative;}#sk-container-id-2 div.sk-item::before, #sk-container-id-2 div.sk-parallel-item::before {content: \"\";position: absolute;border-left: 1px solid gray;box-sizing: border-box;top: 0;bottom: 0;left: 50%;z-index: -1;}#sk-container-id-2 div.sk-parallel-item {display: flex;flex-direction: column;z-index: 1;position: relative;background-color: white;}#sk-container-id-2 div.sk-parallel-item:first-child::after {align-self: flex-end;width: 50%;}#sk-container-id-2 div.sk-parallel-item:last-child::after {align-self: flex-start;width: 50%;}#sk-container-id-2 div.sk-parallel-item:only-child::after {width: 0;}#sk-container-id-2 div.sk-dashed-wrapped {border: 1px dashed gray;margin: 0 0.4em 0.5em 0.4em;box-sizing: border-box;padding-bottom: 0.4em;background-color: white;}#sk-container-id-2 div.sk-label label {font-family: monospace;font-weight: bold;display: inline-block;line-height: 1.2em;}#sk-container-id-2 div.sk-label-container {text-align: center;}#sk-container-id-2 div.sk-container {/* jupyter's `normalize.less` sets `[hidden] { display: none; }` but bootstrap.min.css set `[hidden] { display: none !important; }` so we also need the `!important` here to be able to override the default hidden behavior on the sphinx rendered scikit-learn.org. See: https://github.com/scikit-learn/scikit-learn/issues/21755 */display: inline-block !important;position: relative;}#sk-container-id-2 div.sk-text-repr-fallback {display: none;}</style><div id=\"sk-container-id-2\" class=\"sk-top-container\"><div class=\"sk-text-repr-fallback\"><pre>RandomForestClassifier(max_depth=16, min_samples_leaf=3, min_samples_split=4,\n",
       "                       n_estimators=50, n_jobs=1, random_state=42)</pre><b>In a Jupyter environment, please rerun this cell to show the HTML representation or trust the notebook. <br />On GitHub, the HTML representation is unable to render, please try loading this page with nbviewer.org.</b></div><div class=\"sk-container\" hidden><div class=\"sk-item\"><div class=\"sk-estimator sk-toggleable\"><input class=\"sk-toggleable__control sk-hidden--visually\" id=\"sk-estimator-id-2\" type=\"checkbox\" checked><label for=\"sk-estimator-id-2\" class=\"sk-toggleable__label sk-toggleable__label-arrow\">RandomForestClassifier</label><div class=\"sk-toggleable__content\"><pre>RandomForestClassifier(max_depth=16, min_samples_leaf=3, min_samples_split=4,\n",
       "                       n_estimators=50, n_jobs=1, random_state=42)</pre></div></div></div></div></div>"
      ],
      "text/plain": [
       "RandomForestClassifier(max_depth=16, min_samples_leaf=3, min_samples_split=4,\n",
       "                       n_estimators=50, n_jobs=1, random_state=42)"
      ]
     },
     "execution_count": 5,
     "metadata": {},
     "output_type": "execute_result"
    }
   ],
   "source": [
    "model_map_class = {\n",
    "        'Logistic Regression': 'lr',\n",
    "        'SVM': 'svm',\n",
    "        'Random Forest': 'rf',\n",
    "        'Neural Network': 'nn',\n",
    "        'XGBoost': 'xgboost',\n",
    "    }\n",
    "prefix = \"10fcv_\"\n",
    "best_hyperparams = io.load_best_params(model_map_class, feature_set = 'cv_ling')\n",
    "best_hyperparams['Random Forest']"
   ]
  },
  {
   "cell_type": "code",
   "execution_count": 8,
   "id": "0327487d",
   "metadata": {},
   "outputs": [
    {
     "data": {
      "text/plain": [
       "('69.4 (66.4 - 72.5)',\n",
       " '83.3 (78.0 - 88.7)',\n",
       " '85.7 (83.8 - 87.6)',\n",
       " '76.5 (74.4 - 78.6)')"
      ]
     },
     "execution_count": 8,
     "metadata": {},
     "output_type": "execute_result"
    }
   ],
   "source": [
    "ling_test = pd.read_pickle('../data/features/ling_test.pkl')\n",
    "\n",
    "X_test = ling_test['data']\n",
    "y_test = ling_test['label']\n",
    "X_test_2d = np.stack(X_test.values)\n",
    "# scaler object already fit on training data\n",
    "X_scaled_test = scaler.transform(X_test_2d)\n",
    "\n",
    "evaluation_bootstrap, probs = bootstrap.fit_and_evaluate_bootstrap_classification(\n",
    "    best_hyperparams, \n",
    "    X_scaled_train, \n",
    "    y, \n",
    "    X_scaled_test, \n",
    "    y_test\n",
    ")\n",
    "evaluation_bootstrap_df = pd.DataFrame(evaluation_bootstrap)\n",
    "df = evaluation_bootstrap_df.round(3)\n",
    "df[df.columns[1:]] = df[df.columns[1:]] * 100\n",
    "\n",
    "results_dict = {}\n",
    "for model_name in df.Model:\n",
    "    results = evaluation.extract_results_classif_test(df[df.Model == model_name])\n",
    "    results_dict[model_name] = results\n",
    "results_dict[\"Random Forest\"]"
   ]
  },
  {
   "cell_type": "code",
   "execution_count": 12,
   "id": "1422626f",
   "metadata": {},
   "outputs": [
    {
     "data": {
      "text/plain": [
       "array([0.24378571, 0.5242619 , 0.60224603, 0.83431746, 0.24952381,\n",
       "       0.34054762, 0.5516746 , 0.16938095, 0.54938095, 0.71452381,\n",
       "       0.43909524, 0.44961111, 0.59985714, 0.19633333, 0.65466667,\n",
       "       0.83136508, 0.55935714, 0.25355556, 0.24871429, 0.40209524,\n",
       "       0.17602381, 0.84638095, 0.5132381 , 0.85795238, 0.69538095,\n",
       "       0.58938095, 0.39034921, 0.68904762, 0.38628571, 0.54380952,\n",
       "       0.77684921, 0.30096825, 0.61783333, 0.42660317, 0.48219048,\n",
       "       0.6377619 , 0.30633333, 0.30989683, 0.3994127 , 0.35953968,\n",
       "       0.53088889, 0.5074127 , 0.33202381, 0.89990476, 0.27163492,\n",
       "       0.12519048, 0.36547619, 0.393     , 0.52159524, 0.35722222,\n",
       "       0.70088889, 0.553     , 0.186     , 0.36026984, 0.80166667,\n",
       "       0.27247619, 0.29590476, 0.829     , 0.44177778, 0.70854762,\n",
       "       0.45446032, 0.32738095, 0.47414286, 0.40652381, 0.38407937,\n",
       "       0.11785714, 0.30519048, 0.67712698, 0.1588254 , 0.49387302,\n",
       "       0.85557143])"
      ]
     },
     "execution_count": 12,
     "metadata": {},
     "output_type": "execute_result"
    }
   ],
   "source": [
    "probs['Random Forest'][0]"
   ]
  },
  {
   "cell_type": "code",
   "execution_count": 14,
   "id": "add418e1",
   "metadata": {},
   "outputs": [],
   "source": [
    "# # Save the probs dictionary as a pickle file\n",
    "name = 'ling_probs_classif'\n",
    "with open(f'../data/test_eval_probs/{name}.pkl', 'wb') as f:\n",
    "    pickle.dump(probs, f)"
   ]
  },
  {
   "cell_type": "markdown",
   "id": "146cb4f6",
   "metadata": {},
   "source": [
    "**NOTE**: Similarly, independent evaluation of the best-performing RF-NLP model can be applied applied to the external DementiaBank dataset (```./data/features/ext.pkl```) and the pilot dataset (```./data/features/pilot.pkl```). See results on the paper."
   ]
  },
  {
   "cell_type": "markdown",
   "id": "c944a3ef",
   "metadata": {},
   "source": [
    "#### *GPT embeddings*"
   ]
  },
  {
   "cell_type": "code",
   "execution_count": 15,
   "id": "c3717f21",
   "metadata": {},
   "outputs": [
    {
     "data": {
      "text/html": [
       "<div>\n",
       "<style scoped>\n",
       "    .dataframe tbody tr th:only-of-type {\n",
       "        vertical-align: middle;\n",
       "    }\n",
       "\n",
       "    .dataframe tbody tr th {\n",
       "        vertical-align: top;\n",
       "    }\n",
       "\n",
       "    .dataframe thead th {\n",
       "        text-align: right;\n",
       "    }\n",
       "</style>\n",
       "<table border=\"1\" class=\"dataframe\">\n",
       "  <thead>\n",
       "    <tr style=\"text-align: right;\">\n",
       "      <th></th>\n",
       "      <th>data</th>\n",
       "      <th>label</th>\n",
       "      <th>pid</th>\n",
       "    </tr>\n",
       "  </thead>\n",
       "  <tbody>\n",
       "    <tr>\n",
       "      <th>0</th>\n",
       "      <td>[0.005286967847496271, 0.024346468970179558, -...</td>\n",
       "      <td>1</td>\n",
       "      <td>024</td>\n",
       "    </tr>\n",
       "    <tr>\n",
       "      <th>1</th>\n",
       "      <td>[0.022915663197636604, 0.011132195591926575, -...</td>\n",
       "      <td>1</td>\n",
       "      <td>025</td>\n",
       "    </tr>\n",
       "    <tr>\n",
       "      <th>2</th>\n",
       "      <td>[-0.0063759456388652325, 0.015673918649554253,...</td>\n",
       "      <td>1</td>\n",
       "      <td>027</td>\n",
       "    </tr>\n",
       "    <tr>\n",
       "      <th>3</th>\n",
       "      <td>[0.018051227554678917, -0.0007191338227130473,...</td>\n",
       "      <td>1</td>\n",
       "      <td>028</td>\n",
       "    </tr>\n",
       "    <tr>\n",
       "      <th>4</th>\n",
       "      <td>[0.023917796090245247, 0.04508865252137184, -0...</td>\n",
       "      <td>1</td>\n",
       "      <td>031</td>\n",
       "    </tr>\n",
       "  </tbody>\n",
       "</table>\n",
       "</div>"
      ],
      "text/plain": [
       "                                                data  label  pid\n",
       "0  [0.005286967847496271, 0.024346468970179558, -...      1  024\n",
       "1  [0.022915663197636604, 0.011132195591926575, -...      1  025\n",
       "2  [-0.0063759456388652325, 0.015673918649554253,...      1  027\n",
       "3  [0.018051227554678917, -0.0007191338227130473,...      1  028\n",
       "4  [0.023917796090245247, 0.04508865252137184, -0...      1  031"
      ]
     },
     "execution_count": 15,
     "metadata": {},
     "output_type": "execute_result"
    }
   ],
   "source": [
    "gpt_train = pd.read_pickle('../data/features/gpt_train.pkl')\n",
    "gpt_train.head()"
   ]
  },
  {
   "cell_type": "code",
   "execution_count": 16,
   "id": "4c4ec9b5",
   "metadata": {},
   "outputs": [
    {
     "data": {
      "text/plain": [
       "(1536,)"
      ]
     },
     "execution_count": 16,
     "metadata": {},
     "output_type": "execute_result"
    }
   ],
   "source": [
    "gpt_train.data[0].shape    "
   ]
  },
  {
   "cell_type": "code",
   "execution_count": 5,
   "id": "df04d0d8",
   "metadata": {},
   "outputs": [],
   "source": [
    "X_gpt_train = np.stack(gpt_train['data'].values)   \n",
    "y_gpt_train = gpt_train['label'].values"
   ]
  },
  {
   "cell_type": "code",
   "execution_count": 22,
   "id": "04bea810",
   "metadata": {},
   "outputs": [
    {
     "name": "stdout",
     "output_type": "stream",
     "text": [
      "Fitting 10 folds for each of 50 candidates, totalling 500 fits\n",
      "Fitting 10 folds for each of 50 candidates, totalling 500 fits\n",
      "Fitting 10 folds for each of 50 candidates, totalling 500 fits\n",
      "Fitting 10 folds for each of 50 candidates, totalling 500 fits\n",
      "Fitting 10 folds for each of 50 candidates, totalling 500 fits\n"
     ]
    },
    {
     "data": {
      "text/html": [
       "<div>\n",
       "<style scoped>\n",
       "    .dataframe tbody tr th:only-of-type {\n",
       "        vertical-align: middle;\n",
       "    }\n",
       "\n",
       "    .dataframe tbody tr th {\n",
       "        vertical-align: top;\n",
       "    }\n",
       "\n",
       "    .dataframe thead th {\n",
       "        text-align: right;\n",
       "    }\n",
       "</style>\n",
       "<table border=\"1\" class=\"dataframe\">\n",
       "  <thead>\n",
       "    <tr style=\"text-align: right;\">\n",
       "      <th></th>\n",
       "      <th>Model</th>\n",
       "      <th>Sensitivity</th>\n",
       "      <th>Specificity</th>\n",
       "      <th>Roc_auc</th>\n",
       "      <th>Accuracy</th>\n",
       "    </tr>\n",
       "  </thead>\n",
       "  <tbody>\n",
       "    <tr>\n",
       "      <th>0</th>\n",
       "      <td>lr</td>\n",
       "      <td>76.0 (12.0)</td>\n",
       "      <td>86.2 (13.1)</td>\n",
       "      <td>87.0 (8.2)</td>\n",
       "      <td>80.7 (10.7)</td>\n",
       "    </tr>\n",
       "    <tr>\n",
       "      <th>1</th>\n",
       "      <td>svm</td>\n",
       "      <td>78.3 (12.7)</td>\n",
       "      <td>81.2 (15.1)</td>\n",
       "      <td>86.3 (8.6)</td>\n",
       "      <td>79.5 (9.1)</td>\n",
       "    </tr>\n",
       "    <tr>\n",
       "      <th>2</th>\n",
       "      <td>rf</td>\n",
       "      <td>82.8 (9.4)</td>\n",
       "      <td>68.4 (17.8)</td>\n",
       "      <td>83.5 (9.7)</td>\n",
       "      <td>76.0 (10.7)</td>\n",
       "    </tr>\n",
       "    <tr>\n",
       "      <th>3</th>\n",
       "      <td>nn</td>\n",
       "      <td>79.3 (13.5)</td>\n",
       "      <td>76.2 (18.1)</td>\n",
       "      <td>87.5 (7.7)</td>\n",
       "      <td>77.7 (12.3)</td>\n",
       "    </tr>\n",
       "    <tr>\n",
       "      <th>4</th>\n",
       "      <td>xgboost</td>\n",
       "      <td>81.8 (9.0)</td>\n",
       "      <td>74.6 (17.7)</td>\n",
       "      <td>83.8 (10.9)</td>\n",
       "      <td>78.3 (11.4)</td>\n",
       "    </tr>\n",
       "  </tbody>\n",
       "</table>\n",
       "</div>"
      ],
      "text/plain": [
       "     Model  Sensitivity  Specificity      Roc_auc     Accuracy\n",
       "0       lr  76.0 (12.0)  86.2 (13.1)   87.0 (8.2)  80.7 (10.7)\n",
       "1      svm  78.3 (12.7)  81.2 (15.1)   86.3 (8.6)   79.5 (9.1)\n",
       "2       rf   82.8 (9.4)  68.4 (17.8)   83.5 (9.7)  76.0 (10.7)\n",
       "3       nn  79.3 (13.5)  76.2 (18.1)   87.5 (7.7)  77.7 (12.3)\n",
       "4  xgboost   81.8 (9.0)  74.6 (17.7)  83.8 (10.9)  78.3 (11.4)"
      ]
     },
     "execution_count": 22,
     "metadata": {},
     "output_type": "execute_result"
    }
   ],
   "source": [
    "X_gpt_train = gpt_train['data']\n",
    "y_gpt = gpt_train['label']\n",
    "X_train_2d = np.stack(X_gpt_train.values)\n",
    "# Normalization\n",
    "scaler = StandardScaler()\n",
    "X_gpt_scaled_train = scaler.fit_transform(X_train_2d)\n",
    "\n",
    "models = m.create_models()\n",
    "param_grids = m.create_param_grids_()\n",
    "\n",
    "# model selection and crossvalidation\n",
    "all_results_gpt = []\n",
    "for name, model in models.items():\n",
    "    result_gpt = tuning.crossval_(name, model, param_grids[name], X_gpt_scaled_train, y_gpt, feature_set = 'cv_gpt')\n",
    "    all_results_gpt.append(result_gpt)\n",
    "\n",
    "df_eval_cv_gpt = pd.DataFrame(all_results_gpt)\n",
    "df_eval_cv_gpt"
   ]
  },
  {
   "cell_type": "code",
   "execution_count": 19,
   "id": "71fe2495",
   "metadata": {},
   "outputs": [],
   "source": [
    "PATH_SAVE_DF = \"../data/cv_eval/cv_gpt/\"\n",
    "df_eval_cv_gpt.to_csv(PATH_SAVE_DF + \"classif_results.csv\", index=False)\n"
   ]
  },
  {
   "cell_type": "markdown",
   "id": "aa409811",
   "metadata": {},
   "source": [
    "NOTE: \n",
    "- The same steps above can be applied to evaluate the best-performing model trained on GPT embeddings on the unseen test set using ```./data/features/gpt_test.pkl```"
   ]
  }
 ],
 "metadata": {
  "kernelspec": {
   "display_name": "venv2 (3.12.10)",
   "language": "python",
   "name": "python3"
  },
  "language_info": {
   "codemirror_mode": {
    "name": "ipython",
    "version": 3
   },
   "file_extension": ".py",
   "mimetype": "text/x-python",
   "name": "python",
   "nbconvert_exporter": "python",
   "pygments_lexer": "ipython3",
   "version": "3.12.10"
  }
 },
 "nbformat": 4,
 "nbformat_minor": 5
}
